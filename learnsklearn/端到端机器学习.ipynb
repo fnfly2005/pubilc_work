{
 "cells": [
  {
   "cell_type": "markdown",
   "metadata": {},
   "source": [
    "# 获取数据"
   ]
  },
  {
   "cell_type": "code",
   "execution_count": null,
   "metadata": {},
   "outputs": [],
   "source": [
    "import os\n",
    "import tarfile\n",
    "from six.moves import urllib\n",
    "import matplotlib.pyplot as plt\n",
    "import pandas as pd\n",
    "import numpy as np\n",
    "\n",
    "DOWNLOAD_ROOT = \"https://raw.githubusercontent.com/ageron/handson-ml/master/\"\n",
    "HOUSING_PATH = \"datasets/housing\"\n",
    "HOUSING_URL=DOWNLOAD_ROOT + HOUSING_PATH +\"/housing.tgz\"\n",
    "def fetch_housing_data(housing_url=HOUSING_URL,housing_path=HOUSING_PATH):\n",
    "    '''从网络获取数据下载到本地目录'''\n",
    "    housing_path=HOUSING_PATH\n",
    "    housing_url=HOUSING_URL\n",
    "    if not os.path.isdir(housing_path):\n",
    "        os.makedirs(housing_path)\n",
    "    tgz_path = os.path.join(housing_path,\"housing.tgz\")\n",
    "    urllib.request.urlretrieve(housing_url,tgz_path)\n",
    "    housing_tgz = tarfile.open(tgz_path)\n",
    "    housing_tgz.extractall(housing_path)\n",
    "    housing_tgz.close()\n",
    "    \n",
    "def load_housing_data(housing_path=HOUSING_PATH):\n",
    "    '''从文件读取数据并返回dataframe对象'''\n",
    "    csv_path=os.path.join(housing_path,\"housing.csv\")\n",
    "    return pd.read_csv(csv_path)"
   ]
  },
  {
   "cell_type": "code",
   "execution_count": null,
   "metadata": {},
   "outputs": [],
   "source": [
    "#fetch_housing_data()\n",
    "housing = load_housing_data()\n",
    "housing.head()"
   ]
  },
  {
   "cell_type": "code",
   "execution_count": null,
   "metadata": {},
   "outputs": [],
   "source": [
    "housing.info()"
   ]
  },
  {
   "cell_type": "code",
   "execution_count": null,
   "metadata": {},
   "outputs": [],
   "source": [
    "housing[\"ocean_proximity\"].value_counts()"
   ]
  },
  {
   "cell_type": "code",
   "execution_count": null,
   "metadata": {},
   "outputs": [],
   "source": [
    "housing.describe()"
   ]
  },
  {
   "cell_type": "code",
   "execution_count": null,
   "metadata": {},
   "outputs": [],
   "source": [
    "housing.hist(bins=50, figsize=(20,15))\n",
    "plt.show()"
   ]
  },
  {
   "cell_type": "code",
   "execution_count": null,
   "metadata": {},
   "outputs": [],
   "source": [
    "def split_train_test(data,test_ratio):\n",
    "    shuffled_indices = np.random.permutation(len(data))\n",
    "    test_set_size = int(len(data)*test_ratio)\n",
    "    test_indices=shuffled_indices[:test_set_size]\n",
    "    train_indices=shuffled_indices[test_set_size:]\n",
    "    return data.iloc[train_indices],data.iloc[test_indices]\n",
    "\n",
    "train_set,test_set=split_train_test(housing,0.2)\n",
    "print (len(train_set),\"train+\",len(test_set),\"test\")"
   ]
  },
  {
   "cell_type": "code",
   "execution_count": null,
   "metadata": {},
   "outputs": [],
   "source": [
    "import hashlib\n",
    "def test_set_check(identifier,test_ratio,hash):\n",
    "    return hash(np.int64(identifier)).digest()[-1]<256*test_ratio\n",
    "\n",
    "def split_train_test_by_id(data,test_tatio,id_column,hash=hashlib.md5):\n",
    "    ids = data[id_column]\n",
    "    in_test_set = ids.apply(lambda id_:test_set_check(id_,test_tatio,hash))\n",
    "    return data.loc[~in_test_set],data.loc[in_test_set]\n",
    "\n",
    "#方法一：使用行索引作为唯一标识符，需要确保在数据集末尾添加新数据，并且不会删除任何行\n",
    "housing_with_id = housing.reset_index()\n",
    "#方法二：使用经纬度作为唯一标识符，最稳定的特征\n",
    "housing_with_id[\"id\"] = housing[\"longitude\"]*1000+housing[\"latitude\"]\n",
    "train_set,test_set = split_train_test_by_id(housing_with_id,0.2,\"id\")"
   ]
  },
  {
   "cell_type": "code",
   "execution_count": null,
   "metadata": {},
   "outputs": [],
   "source": [
    "from sklearn.model_selection import StratifiedShuffleSplit\n",
    "from sklearn.model_selection import train_test_split\n",
    "\n",
    "\n",
    "housing['income_cat']=np.ceil(housing['median_income']/1.5)\n",
    "housing['income_cat'].where(housing['income_cat']<5,5.0,inplace=True)\n",
    "\n",
    "train_set,test_set=train_test_split(housing,test_size=0.2,random_state=42)\n",
    "split = StratifiedShuffleSplit(n_splits=1,test_size=0.2,random_state=42)\n",
    "for train_index,test_index in split.split(housing,housing['income_cat']):\n",
    "    strat_train_set = housing.loc[train_index]\n",
    "    strat_test_set = housing.loc[test_index]\n",
    "print(housing['income_cat'].value_counts()/len(housing))\n",
    "print(strat_test_set['income_cat'].value_counts()/len(strat_test_set))\n",
    "print(test_set['income_cat'].value_counts()/len(strat_test_set))\n",
    "\n",
    "for set in (strat_train_set,strat_test_set):\n",
    "    set.drop([\"income_cat\"],axis=1,inplace=True)"
   ]
  },
  {
   "cell_type": "markdown",
   "metadata": {},
   "source": [
    "# 从数据探索和可视化获得洞见"
   ]
  },
  {
   "cell_type": "code",
   "execution_count": null,
   "metadata": {},
   "outputs": [],
   "source": [
    "#将地理数据可视化\n",
    "housing = strat_train_set.copy()\n",
    "housing.plot(kind='scatter',x='longitude',y='latitude',alpha=0.1,\n",
    "            s=housing['population']/100,label='population',\n",
    "            c='median_house_value',cmap=plt.get_cmap('jet'),colorbar=True)\n",
    "plt.legend()"
   ]
  },
  {
   "cell_type": "code",
   "execution_count": null,
   "metadata": {},
   "outputs": [],
   "source": [
    "#寻找相关性\n",
    "corr_matrix = housing.corr()\n",
    "corr_matrix['median_house_value'].sort_values(ascending=False)"
   ]
  },
  {
   "cell_type": "code",
   "execution_count": null,
   "metadata": {},
   "outputs": [],
   "source": [
    "from pandas.plotting import scatter_matrix\n",
    "attributes =['median_house_value','median_income','total_rooms','housing_median_age']\n",
    "scatter_matrix(housing[attributes],figsize=(12,8))"
   ]
  },
  {
   "cell_type": "code",
   "execution_count": null,
   "metadata": {},
   "outputs": [],
   "source": [
    "housing.plot(kind='scatter',x='median_income',y='median_house_value',alpha=0.1)"
   ]
  },
  {
   "cell_type": "code",
   "execution_count": null,
   "metadata": {},
   "outputs": [],
   "source": [
    "#试验不同属性的组合\n",
    "housing['rooms_per_household']=housing['total_rooms']/housing['households']#家庭每户平均房间数\n",
    "housing['bedrooms_per_room']=housing['total_bedrooms']/housing['total_rooms']#卧室占比\n",
    "housing['population_per_household']=housing['population']/housing['households']#每个家庭人口数\n",
    "corr_matrix=housing.corr()\n",
    "corr_matrix['median_house_value'].sort_values(ascending=False)"
   ]
  }
 ],
 "metadata": {
  "kernelspec": {
   "display_name": "Python 3",
   "language": "python",
   "name": "python3"
  },
  "language_info": {
   "codemirror_mode": {
    "name": "ipython",
    "version": 3
   },
   "file_extension": ".py",
   "mimetype": "text/x-python",
   "name": "python",
   "nbconvert_exporter": "python",
   "pygments_lexer": "ipython3",
   "version": "3.7.1"
  }
 },
 "nbformat": 4,
 "nbformat_minor": 2
}
