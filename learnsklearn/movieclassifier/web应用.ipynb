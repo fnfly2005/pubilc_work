{
 "cells": [
  {
   "cell_type": "markdown",
   "metadata": {},
   "source": [
    "# 序列化通过scikit-learn拟合的模型"
   ]
  },
  {
   "cell_type": "code",
   "execution_count": 3,
   "metadata": {},
   "outputs": [
    {
     "name": "stdout",
     "output_type": "stream",
     "text": [
      "Prediction: positive\n",
      "Probability: 82.47%\n"
     ]
    }
   ],
   "source": [
    "import pickle\n",
    "import re\n",
    "import os\n",
    "from vectorizer import vect\n",
    "clf = pickle.load(open(os.path.join('pkl_objects','classifier.pkl'),'rb'))\n",
    "import numpy as np\n",
    "label = {0:'negative',1:'positive'}\n",
    "example = ['I love this movie']\n",
    "X = vect.transform(example)\n",
    "print ('Prediction: %s\\nProbability: %.2f%%' %\\\n",
    "       (label[clf.predict(X)[0]],\n",
    "       np.max(clf.predict_proba(X))*100))"
   ]
  },
  {
   "cell_type": "markdown",
   "metadata": {},
   "source": [
    "# 使用SQLite数据库存储数据"
   ]
  },
  {
   "cell_type": "code",
   "execution_count": 3,
   "metadata": {},
   "outputs": [
    {
     "name": "stdout",
     "output_type": "stream",
     "text": [
      "[('I love this movie', 1, '2019-05-26 11:03:17'), ('I disliked this movie', 0, '2019-05-26 11:03:17')]\n"
     ]
    }
   ],
   "source": [
    "import sqlite3\n",
    "conn =sqlite3.connect('reviews.sqlite')\n",
    "c = conn.cursor()\n",
    "c.execute('drop table if EXISTS review_db')\n",
    "c.execute('create table review_db'\\\n",
    "         '(review text, sentiment integer, date text)')\n",
    "example1 = 'I love this movie'\n",
    "c.execute(\"insert into review_db\"\\\n",
    "          \"(review, sentiment,date) values\"\\\n",
    "          \"(?,?,datetime('now'))\",(example1,1))\n",
    "example2='I disliked this movie'\n",
    "c.execute(\"insert into review_db\"\\\n",
    "         \"(review, sentiment, date) values\"\\\n",
    "         \"(?,?,datetime('now'))\",(example2,0))\n",
    "conn.commit()\n",
    "conn.close()\n",
    "conn = sqlite3.connect('reviews.sqlite')\n",
    "c=conn.cursor()\n",
    "c.execute(\"select * from review_db\")\n",
    "results = c.fetchall()\n",
    "conn.close()\n",
    "print (results)"
   ]
  }
 ],
 "metadata": {
  "kernelspec": {
   "display_name": "Python 3",
   "language": "python",
   "name": "python3"
  },
  "language_info": {
   "codemirror_mode": {
    "name": "ipython",
    "version": 3
   },
   "file_extension": ".py",
   "mimetype": "text/x-python",
   "name": "python",
   "nbconvert_exporter": "python",
   "pygments_lexer": "ipython3",
   "version": "3.7.1"
  }
 },
 "nbformat": 4,
 "nbformat_minor": 2
}
