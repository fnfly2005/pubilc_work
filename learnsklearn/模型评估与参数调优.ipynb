{
 "cells": [
  {
   "cell_type": "code",
   "execution_count": 1,
   "metadata": {},
   "outputs": [
    {
     "name": "stdout",
     "output_type": "stream",
     "text": [
      "Test Accuracy: 0.947\n"
     ]
    }
   ],
   "source": [
    "from sklearn.datasets import load_breast_cancer\n",
    "from sklearn.model_selection import train_test_split\n",
    "from sklearn.preprocessing import StandardScaler\n",
    "from sklearn.decomposition import PCA\n",
    "from sklearn.linear_model import LogisticRegression\n",
    "from sklearn.pipeline import Pipeline\n",
    "import numpy as np\n",
    "\n",
    "#导入数据集\n",
    "breast = load_breast_cancer()\n",
    "X = breast.data\n",
    "y = breast.target\n",
    "X_train,X_test,y_train,y_test =\\\n",
    "    train_test_split(X,y,test_size=0.2,random_state=1)\n",
    "\n",
    "#流水线集成操作\n",
    "pipe_lr = Pipeline([('scl',StandardScaler()),\n",
    "                   ('pca',PCA(n_components=2)),\n",
    "                   ('clf',LogisticRegression(solver='lbfgs',multi_class='auto'))])\n",
    "pipe_lr.fit(X_train,y_train)\n",
    "print ('Test Accuracy: %.3f' % pipe_lr.score(X_test, y_test))"
   ]
  },
  {
   "cell_type": "markdown",
   "metadata": {},
   "source": [
    "# k折交叉验证\n",
    "主要应用于评估一个模型的均值分及其上下限"
   ]
  },
  {
   "cell_type": "code",
   "execution_count": 2,
   "metadata": {},
   "outputs": [
    {
     "name": "stdout",
     "output_type": "stream",
     "text": [
      "CV accuracy: 0.952 +/- 0.025\n"
     ]
    }
   ],
   "source": [
    "#k折交叉验证\n",
    "from sklearn.model_selection import StratifiedKFold\n",
    "kfold = StratifiedKFold(n_splits=10,random_state=1)\n",
    "scores=[]\n",
    "for k, (train,test) in enumerate(kfold.split(X_train, y_train)):\n",
    "    pipe_lr.fit(X_train[train],y_train[train])\n",
    "    score = pipe_lr.score(X_train[test],y_train[test])\n",
    "    scores.append(score)\n",
    "print ('CV accuracy: %.3f +/- %.3f' % (np.mean(scores),np.std(scores)))"
   ]
  },
  {
   "cell_type": "code",
   "execution_count": 3,
   "metadata": {},
   "outputs": [
    {
     "name": "stdout",
     "output_type": "stream",
     "text": [
      "CV accuracy: 0.952 +/- 0.025\n"
     ]
    }
   ],
   "source": [
    "#K折交叉验证评分\n",
    "from sklearn.model_selection import cross_val_score\n",
    "scores = cross_val_score(estimator=pipe_lr,\n",
    "                         X=X_train,y=y_train,cv=10,n_jobs=1)\n",
    "print('CV accuracy: %.3f +/- %.3f' % (np.mean(scores),\n",
    "                                     np.std(scores)))"
   ]
  },
  {
   "cell_type": "markdown",
   "metadata": {},
   "source": [
    "# 学习曲线\n",
    "主要应用于评估一个模型对数据量上升的性能提升曲线"
   ]
  },
  {
   "cell_type": "code",
   "execution_count": 4,
   "metadata": {},
   "outputs": [
    {
     "data": {
      "text/plain": [
       "<Figure size 640x480 with 1 Axes>"
      ]
     },
     "metadata": {},
     "output_type": "display_data"
    }
   ],
   "source": [
    "import matplotlib.pylab as plt\n",
    "from sklearn.model_selection import learning_curve\n",
    "pipe_lr = Pipeline([('scl',StandardScaler()),\n",
    "                   ('clf',LogisticRegression(solver='lbfgs',multi_class='auto',\\\n",
    "                                             penalty='l2',random_state=0))])\n",
    "train_sizes,train_scores,test_scores = \\\n",
    "    learning_curve(estimator=pipe_lr,\n",
    "                  X=X_train,\n",
    "                  y=y_train,\n",
    "                  train_sizes=np.linspace(0.1,1.0,10),#控制用于生成学习曲线的样本数量百分比\n",
    "                  cv=10,\n",
    "                  n_jobs=1)\n",
    "def cvCurve(train_sizes,train_scores,test_scores):\n",
    "    train_mean = np.mean(train_scores,axis=1)\n",
    "    train_std = np.std(train_scores,axis=1)\n",
    "    test_mean = np.mean(test_scores,axis=1)\n",
    "    test_std = np.std(test_scores,axis=1)\n",
    "    plt.plot(train_sizes,train_mean,\n",
    "            color='blue',marker='o',\n",
    "            markersize=5,#标记尺寸\n",
    "            label='training accuracy')\n",
    "    plt.fill_between(train_sizes,\n",
    "                    train_mean + train_std,\n",
    "                    train_mean - train_std,\n",
    "                    alpha=0.15,color='blue')\n",
    "    plt.plot(train_sizes,test_mean,\n",
    "            color='green',marker='s',\n",
    "            markersize=5,#折线点大小\n",
    "            label='validation accuracy')\n",
    "    plt.fill_between(train_sizes,\n",
    "                    test_mean + test_std,\n",
    "                    test_mean - test_std,\n",
    "                    alpha=0.15,color='green')\n",
    "    plt.grid()#配置网格线\n",
    "    plt.xlabel('Number of training samples or Parameter')\n",
    "    plt.ylabel('Accuracy')\n",
    "    plt.legend(loc='lower right')\n",
    "    plt.ylim([0.8,1.0])#设置Y轴的上下限\n",
    "cvCurve(train_sizes,train_scores,test_scores)\n",
    "plt.show()"
   ]
  },
  {
   "cell_type": "markdown",
   "metadata": {},
   "source": [
    "# 验证曲线\n",
    "主要应用于判断一个模型是否过拟合或欠拟合"
   ]
  },
  {
   "cell_type": "code",
   "execution_count": 5,
   "metadata": {},
   "outputs": [
    {
     "data": {
      "image/png": "[encoded data removed]",
      "text/plain": [
       "<Figure size 432x288 with 1 Axes>"
      ]
     },
     "metadata": {
      "needs_background": "light"
     },
     "output_type": "display_data"
    }
   ],
   "source": [
    "from sklearn.model_selection import validation_curve\n",
    "param_range=[0.001,0.01,0.1,1.0,10.0]\n",
    "train_scores,test_scores =validation_curve(\n",
    "    estimator=pipe_lr,\n",
    "    X=X_train,\n",
    "    y=y_train,\n",
    "    param_name='clf__C',\n",
    "    param_range=param_range,\n",
    "    cv=10)\n",
    "cvCurve(param_range,train_scores,test_scores)\n",
    "plt.xscale('log')\n",
    "plt.show()"
   ]
  },
  {
   "cell_type": "markdown",
   "metadata": {},
   "source": [
    "# 网格搜索GridSearchCV"
   ]
  },
  {
   "cell_type": "code",
   "execution_count": 6,
   "metadata": {},
   "outputs": [
    {
     "name": "stdout",
     "output_type": "stream",
     "text": [
      "0.9781159420289856 {'clf__C': 0.1, 'clf__kernel': 'linear'}\n",
      "Test accuracy: 0.965\n"
     ]
    }
   ],
   "source": [
    "from sklearn.model_selection import GridSearchCV\n",
    "from sklearn.svm import SVC\n",
    "pipe_svc = Pipeline([('scl',StandardScaler()),\\\n",
    "                    ('clf',SVC(random_state=1))])\n",
    "param_range = [0.0001,0.001,0.01,0.1,1.0,10.0,100.0,1000.0]\n",
    "param_grid = [{'clf__C': param_range,\\\n",
    "              'clf__kernel':['linear']},\\\n",
    "             {'clf__C':param_range,\\\n",
    "             'clf__gamma':param_range,\\\n",
    "             'clf__kernel':['rbf']}]\n",
    "gs = GridSearchCV(estimator=pipe_svc,\\\n",
    "                  param_grid=param_grid,\\\n",
    "                 scoring='accuracy',\\\n",
    "                 cv=10,n_jobs=-1,iid=False)\n",
    "gs.fit(X_train,y_train)\n",
    "print(gs.best_score_,gs.best_params_)\n",
    "clf=gs.best_estimator_ #获取最佳分类器\n",
    "clf.fit(X_train,y_train)\n",
    "print('Test accuracy: %.3f' % clf.score(X_test,y_test))"
   ]
  },
  {
   "cell_type": "markdown",
   "metadata": {},
   "source": [
    "# 嵌套交叉验证"
   ]
  },
  {
   "cell_type": "code",
   "execution_count": 7,
   "metadata": {},
   "outputs": [
    {
     "name": "stdout",
     "output_type": "stream",
     "text": [
      "CV accuracy: 0.971 +/- 0.018\n",
      "CV accuracy: 0.905 +/- 0.046\n"
     ]
    }
   ],
   "source": [
    "from sklearn.model_selection import cross_val_score\n",
    "from sklearn.tree import DecisionTreeClassifier\n",
    "\n",
    "scores = cross_val_score(gs,X_train,y_train,scoring='accuracy',cv=5)\n",
    "print ('CV accuracy: %.3f +/- %.3f' % \\\n",
    "      (np.mean(scores),np.std(scores)))\n",
    "\n",
    "gst = GridSearchCV(estimator=DecisionTreeClassifier(random_state=0),\\\n",
    "                  param_grid=[{'max_depth':[1,2,3,4,5,6,7,None]}],\\\n",
    "                  scoring='accuracy',cv=5,iid=False)\n",
    "scorest = cross_val_score(gst,X_train,y_train,scoring='accuracy',cv=5)\n",
    "print ('CV accuracy: %.3f +/- %.3f' % \\\n",
    "       (np.mean(scorest),np.std(scorest)))"
   ]
  },
  {
   "cell_type": "markdown",
   "metadata": {},
   "source": [
    "# 混淆矩阵\n",
    "主要用于评估不平衡数据的模型性能\n",
    "\n",
    "性能评估-metrics\n",
    "\n",
    "绘制子图-subplots() \n",
    "\n",
    "绘制矩阵图-matshow() \n",
    "\n",
    "绘制文本框-text() \n",
    "\n",
    "混淆矩阵\n",
    "\n",
    "[真负TN，假正FP]\n",
    "\n",
    "[假负FN，真正TP]"
   ]
  },
  {
   "cell_type": "code",
   "execution_count": 8,
   "metadata": {},
   "outputs": [
    {
     "name": "stdout",
     "output_type": "stream",
     "text": [
      "[[40  2]\n",
      " [ 1 71]]\n"
     ]
    },
    {
     "data": {
      "image/png": "[encoded data removed]",
      "text/plain": [
       "<Figure size 216x216 with 1 Axes>"
      ]
     },
     "metadata": {
      "needs_background": "light"
     },
     "output_type": "display_data"
    }
   ],
   "source": [
    "from sklearn.metrics import confusion_matrix\n",
    "pipe_svc.fit(X_train,y_train)\n",
    "y_pred = pipe_svc.predict(X_test)\n",
    "confmat = confusion_matrix(y_true=y_test,y_pred=y_pred)\n",
    "print(confmat)\n",
    "\n",
    "fig,ax = plt.subplots(figsize = (3,3))\n",
    "ax.matshow(confmat,cmap='Blues',alpha=0.3)\n",
    "for i in range(confmat.shape[0]):\n",
    "    for j in range(confmat.shape[1]):\n",
    "        ax.text(x=j,y=i,\n",
    "               s=confmat[i,j],\n",
    "               va='center',ha ='center')\n",
    "plt.xlabel('predicted label')\n",
    "plt.ylabel('true label')\n",
    "plt.show()"
   ]
  },
  {
   "cell_type": "markdown",
   "metadata": {},
   "source": [
    "# 精确率和召回率\n",
    "\n",
    "主要针对类别数量不均衡的分类问题\n",
    "\n",
    "预测误差 ERR = (FP+FN)/(FP+FN+TP+TN)\n",
    "\n",
    "准确率 ACC = (TP+TN)/(FP+FN+TP+TN)=1-ERR\n",
    "\n",
    "精确率 PRE = TP/(TP+FP)\n",
    "\n",
    "召回率 REC = TPR = TP/P = TP/(FN+TP)"
   ]
  },
  {
   "cell_type": "code",
   "execution_count": 37,
   "metadata": {},
   "outputs": [
    {
     "name": "stdout",
     "output_type": "stream",
     "text": [
      "Precision : 0.973\n",
      "Recall: 0.979\n",
      "F1: 0.979\n"
     ]
    }
   ],
   "source": [
    "from sklearn.metrics import precision_score\n",
    "from sklearn.metrics import recall_score,f1_score\n",
    "print ('Precision : %.3f' % precision_score(\\\n",
    "                                           y_test,y_pred))\n",
    "print ('Recall: %.3f' % f1_score(\\\n",
    "                                y_test,y_pred))\n",
    "print('F1: %.3f' % f1_score(\\\n",
    "                           y_test,y_pred))\n",
    "\n",
    "#构建自己的评分器\n",
    "from sklearn.metrics import make_scorer,f1_score\n",
    "scorer = make_scorer(f1_score,\n",
    "                     pos_label=1,#正例类标\n",
    "                     greater_is_better=True,#评价方向\n",
    "                     averge='micro')#支持多分类评价"
   ]
  },
  {
   "cell_type": "markdown",
   "metadata": {},
   "source": [
    "# ROC曲线\n",
    "受试者工作特征曲线\n",
    "\n",
    "roc的对角线可以理解为随机猜测，如果分类器性能曲线在对角线以下，那么其性能就比随机猜测还差，对于完美的分类器来说，其真正率为1，假正率为0，这时的roc曲线即为横轴0与纵轴1组成的折线\n",
    "\n",
    "roc_curve返回参数：\n",
    "\n",
    "fpr 假正率，使元素i为得分大于等于阈值的预测假阳性率[i]。\n",
    "\n",
    "tpr 真正率，使元素i为预测的真阳性率，得分大于等于阈值[i]。\n",
    "\n",
    "thresholds 用于计算fpr和tpr的决策函数的降低阈值。阈值[0]表示没有正在预测的实例，可任意设置为max（y_score）+1。\n",
    "\n",
    "线性插值概念：数学上定义:线性插值是指插值函数为一次多项式的插值方式,其在插值节点上的插值误差为0;在图片上，我们利用线性插值的算法，可以减少图片的锯齿,模糊图片; 举例：y= x +1  x[0,1,3] y[1,2,4] 利用X 1和3中值2 形成x[0,1,2,3] 往Y轴上插值得到y[1,2,3,4] "
   ]
  },
  {
   "cell_type": "code",
   "execution_count": 35,
   "metadata": {},
   "outputs": [
    {
     "data": {
      "image/png": "[encoded data removed]",
      "text/plain": [
       "<Figure size 504x360 with 1 Axes>"
      ]
     },
     "metadata": {
      "needs_background": "light"
     },
     "output_type": "display_data"
    }
   ],
   "source": [
    "from sklearn.metrics import roc_curve,auc\n",
    "from numpy import interp\n",
    "X_train2 = X_train[:,[4,14]]\n",
    "fig=plt.figure(figsize=(7,5))\n",
    "mean_tpr=0.0\n",
    "mean_fpr = np.linspace(0,1,100)\n",
    "all_tpr=[]\n",
    "cv = StratifiedKFold(n_splits=3)\n",
    "\n",
    "#绘制模型k折性能曲线\n",
    "for i,(train,test) in enumerate(cv.split(X_train2, y_train)):\n",
    "    #获取模型对测试集各类标的预测概率\n",
    "    lrbas=pipe_lr.fit(X_train2[train],y_train[train])\n",
    "    probas=lrbas.predict_proba(X_train2[test])\n",
    "    fpr,tpr,thresholds = roc_curve(y_train[test],\n",
    "                                  probas[:,1],#获取类标1的预测概率\n",
    "                                  pos_label=1)#指定类标1设为正例的标签\n",
    "    mean_tpr += interp(mean_fpr,fpr,tpr)#获取一维线性插值\n",
    "    mean_tpr[0]=0.0\n",
    "    roc_auc=auc(fpr,tpr)#使用梯形规则计算曲线下面积（AUC）\n",
    "    plt.plot(fpr,tpr,lw=1,label='ROC fold %d (area = %0.2f)' % (i+1,roc_auc))\n",
    "\n",
    "#绘制随机猜测性能曲线\n",
    "plt.plot([0,1],\n",
    "        [0,1],\n",
    "        linestyle='--',\n",
    "        color=(0.6,0.6,0.6),\n",
    "        label='random guessing')\n",
    "\n",
    "#绘制模型平均性能曲线\n",
    "mean_tpr /= len (list(cv.split(X_train2, y_train)))\n",
    "mean_tpr [-1]=1.0\n",
    "mean_auc=auc(mean_fpr,mean_tpr)\n",
    "plt.plot(mean_fpr,mean_tpr,'k--',\n",
    "        label='mean ROC (area = %0.2f)' % mean_auc, linewidth=2)\n",
    "\n",
    "#绘制完美性能曲线\n",
    "plt.plot([0,0,1],\n",
    "        [0,1,1],\n",
    "        linewidth=2,\n",
    "        linestyle=':',\n",
    "        color='black',\n",
    "        label='perfect performance')\n",
    "\n",
    "plt.xlim([-0.05,1.05])\n",
    "plt.ylim([-0.05,1.05])\n",
    "plt.xlabel('false positive rate')\n",
    "plt.ylabel('true positive rate')\n",
    "plt.title('Receiver Operator Characteristic')\n",
    "plt.legend(loc='lower right')#图例置于右下角\n",
    "plt.show()"
   ]
  },
  {
   "cell_type": "markdown",
   "metadata": {},
   "source": [
    "# ROC AUC得分"
   ]
  },
  {
   "cell_type": "code",
   "execution_count": 31,
   "metadata": {},
   "outputs": [
    {
     "name": "stdout",
     "output_type": "stream",
     "text": [
      "ROC AUC: 0.671\n",
      "Accyracy: 0.728\n"
     ]
    }
   ],
   "source": [
    "pipe_svc = pipe_svc.fit(X_train2,y_train)\n",
    "y_pred2 = pipe_svc.predict(X_test[:,[4,14]])\n",
    "from sklearn.metrics import roc_auc_score\n",
    "from sklearn.metrics import accuracy_score\n",
    "print('ROC AUC: %.3f' % roc_auc_score(y_test,y_pred2))\n",
    "print('Accyracy: %.3f' % accuracy_score(y_test,y_pred2))"
   ]
  }
 ],
 "metadata": {
  "kernelspec": {
   "display_name": "Python 3",
   "language": "python",
   "name": "python3"
  },
  "language_info": {
   "codemirror_mode": {
    "name": "ipython",
    "version": 3
   },
   "file_extension": ".py",
   "mimetype": "text/x-python",
   "name": "python",
   "nbconvert_exporter": "python",
   "pygments_lexer": "ipython3",
   "version": "3.7.1"
  }
 },
 "nbformat": 4,
 "nbformat_minor": 2
}
