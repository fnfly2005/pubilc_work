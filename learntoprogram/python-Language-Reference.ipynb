{
 "cells": [
  {
   "cell_type": "markdown",
   "metadata": {},
   "source": [
    "# 6. Expressions\n",
    "## 6.2. Atoms\n",
    "### 6.2.9. Yield expressions\n",
    "yield表达式在定义生成器函数或异步生成器函数时使用，因此只能在函数定义的主体中使用。在函数体中使用yield表达式将使该函数成为生成器，在async def函数体中使用它将使该协程函数成为异步生成器  \n",
    "For example:"
   ]
  },
  {
   "cell_type": "code",
   "execution_count": null,
   "metadata": {},
   "outputs": [],
   "source": [
    "def gen():  # defines a generator function\n",
    "    yield 123\n",
    "\n",
    "async def agen(): # defines an asynchronous generator function\n",
    "    yield 123"
   ]
  },
  {
   "cell_type": "markdown",
   "metadata": {},
   "source": [
    "由于它们对包含范围的副作用，不允许将yield表达式作为用于实现理解和生成器表达式的隐式定义范围的一部分  \n",
    "Generator functions 如下所述，而异步generator functions 在“Asynchronous generator functions ”一节中单独描述 5  \n",
    "当调用生成器函数时，它返回一个称为生成器的迭代器。这个生成器控制生成器函数的执行。  \n",
    "当调用生成器的一个方法时，执行开始。此时，执行继续到第一个yield表达式，在那里它再次被挂起，将expression_list的值返回给生成器的调用方。  \n",
    "所谓挂起，是指保留所有本地状态，包括本地变量的当前绑定、指令指针、内部求值堆栈和任何异常处理的状态。  \n",
    "当通过调用生成器的一个方法恢复执行时，函数可以像yield表达式只是另一个外部调用一样继续执行。  \n",
    "恢复后yield表达式的值取决于恢复执行的方法。  \n",
    "+ 如果使用了next（）（通常通过for或next（）内置函数），则结果为None。\n",
    "+ 否则，如果使用send（），则结果将是传递给该方法的值。 5  \n",
    "\n",
    "所有这些都使得生成器函数与协程非常相似；它们产生多次结果，它们有多个入口点，它们的执行可以暂停。唯一的区别是，生成器函数无法控制在执行结果产生后应继续执行的位置；该控件始终传递给生成器的调用方  \n",
    "在try构造中的任何地方都允许使用Yield表达式。如果生成器在完成之前未恢复（通过达到零引用计数或垃圾回收），则将调用生成器迭代器的close（）方法，允许执行任何挂起的finally子句。  \n",
    "当使用yield from < expr >时，它将所提供的表达式视为子迭代器。子迭代器生成的所有值都直接传递给当前生成器方法的调用方。如果底层迭代器具有适当的方法，则使用send（）传入的任何值和使用throw（）传入的任何异常都将传递给底层迭代器。如果不是这样，那么send（）将引发AttributeError或TypeError，而throw（）将立即引发传入异常  \n",
    "当底层迭代器完成时，引发的StopIteration实例的value属性将成为yield表达式的值。它可以在引发StopIteration时显式设置，也可以在子迭代器是生成器时自动设置（通过从子生成器返回值）  \n",
    "当yield表达式是赋值语句右侧的唯一表达式时，可以省略括号 5"
   ]
  },
  {
   "cell_type": "markdown",
   "metadata": {},
   "source": [
    "#### 6.2.9.1. Generator-iterator methods\n",
    "本小节描述生成器迭代器的方法。它们可以用来控制生成器函数的执行  \n",
    "请注意，在生成器已在执行时调用下面的任何生成器方法都会引发ValueError异常  \n",
    "+ generator.\\_\\_next\\_\\_()  \n",
    "    开始执行生成器函数或在上次执行的yield表达式处继续执行  \n",
    "    使用next（）方法恢复生成器函数时，当前yield表达式的计算结果始终为None     \n",
    "    然后继续执行下一个yield表达式，在该表达式中生成器再次挂起，表达式的值返回给next（）的调用方 5  \n",
    "    如果生成器不产生另一个值而退出，则会引发StopIteration异常  \n",
    "    此方法通常隐式调用，例如由for循环或内置的next（）函数调用\n",
    "+ generator.send(value)  \n",
    "    继续执行并向生成器函数“send”一个值  \n",
    "    value参数成为当前yield表达式的结果  \n",
    "    send（）方法返回生成器生成的下一个值，如果生成器退出而未生成另一个值，则引发StopIteration 5   \n",
    "    调用send（）启动生成器时，必须以None作为参数调用它，因为没有可接收该值的yield表达式\n",
    "+ generator.throw(type\\[, value\\[, traceback\\]\\])  \n",
    "   在生成器暂停时引发类型为“type”的异常，并返回生成器函数生成的下一个值  \n",
    "   如果生成器不产生另一个值而退出，则会引发StopIteration异常  \n",
    "   如果生成器函数未捕获传入的异常，或引发其他异常，则该异常将传播到调用方\n",
    "+ generator.close()  \n",
    "   在生成器函数暂停时引发GeneratorExit 5  \n",
    "   如果生成器函数随后优雅地退出、已关闭或引发GeneratorExit（不捕获异常），则close返回其调用方  \n",
    "   如果生成器生成一个值，则会引发运行时错误  \n",
    "   如果生成器引发任何其他异常，则会将其传播到调用方  \n",
    "   如果生成器已因异常或正常退出而退出，close（）将不执行任何操作  \n",
    "\n",
    "#### 6.2.9.2. Examples\n",
    "下面是一个简单的示例，演示生成器和生成器函数的行为 5"
   ]
  },
  {
   "cell_type": "code",
   "execution_count": null,
   "metadata": {},
   "outputs": [],
   "source": [
    "def echo(value=None):\n",
    "    print(\"Ececution starts when 'next()' is called for the first time\")\n",
    "    try:\n",
    "        while True:\n",
    "            try:\n",
    "                value = (yield value)\n",
    "            except Exception as e:\n",
    "                value = e\n",
    "    finally:\n",
    "        print(\"Don't forget to clean up when 'close()' is called.\")\n",
    "\n",
    "generator= echo(1)\n",
    "print(next(generator)) # yield 返回value 并挂起，yield value 表达式的结果始终为None"
   ]
  },
  {
   "cell_type": "code",
   "execution_count": null,
   "metadata": {},
   "outputs": [],
   "source": [
    "# python Built-in Functions next()\n",
    "print(next(generator)) "
   ]
  }
 ],
 "metadata": {
  "kernelspec": {
   "display_name": "Python 3",
   "language": "python",
   "name": "python3"
  },
  "language_info": {
   "codemirror_mode": {
    "name": "ipython",
    "version": 3
   },
   "file_extension": ".py",
   "mimetype": "text/x-python",
   "name": "python",
   "nbconvert_exporter": "python",
   "pygments_lexer": "ipython3",
   "version": "3.7.6"
  }
 },
 "nbformat": 4,
 "nbformat_minor": 2
}
