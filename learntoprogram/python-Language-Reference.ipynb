{
 "cells": [
  {
   "cell_type": "markdown",
   "metadata": {},
   "source": [
    "# 6. Expressions\n",
    "## 6.2. Atoms\n",
    "### 6.2.9. Yield expressions\n",
    "yield表达式在定义生成器函数或异步生成器函数时使用，因此只能在函数定义的主体中使用。在函数体中使用yield表达式将使该函数成为生成器，在async def函数体中使用它将使该协程函数成为异步生成器  \n",
    "For example:"
   ]
  },
  {
   "cell_type": "code",
   "execution_count": null,
   "metadata": {},
   "outputs": [],
   "source": [
    "def gen():  # defines a generator function\n",
    "    yield 123\n",
    "\n",
    "async def agen(): # defines an asynchronous generator function\n",
    "    yield 123"
   ]
  },
  {
   "cell_type": "markdown",
   "metadata": {},
   "source": [
    "由于它们对包含范围的副作用，不允许将yield表达式作为用于实现理解和生成器表达式的隐式定义范围的一部分  \n",
    "Generator functions 如下所述，而异步generator functions 在“Asynchronous generator functions ”一节中单独描述 5  \n",
    "当调用生成器函数时，它返回一个称为生成器的迭代器。这个生成器控制生成器函数的执行。  \n",
    "当调用生成器的一个方法时，执行开始。此时，执行继续到第一个yield表达式，在那里它再次被挂起，将expression_list的值返回给生成器的调用方。  \n",
    "所谓挂起，是指保留所有本地状态，包括本地变量的当前绑定、指令指针、内部求值堆栈和任何异常处理的状态。  \n",
    "当通过调用生成器的一个方法恢复执行时，函数可以像yield表达式只是另一个外部调用一样继续执行。  \n",
    "恢复后yield表达式的值取决于恢复执行的方法。  \n",
    "+ 如果使用了next（）（通常通过for或next（）内置函数），则结果为None。\n",
    "+ 否则，如果使用send（），则结果将是传递给该方法的值。 5"
   ]
  }
 ],
 "metadata": {
  "kernelspec": {
   "display_name": "Python 3",
   "language": "python",
   "name": "python3"
  },
  "language_info": {
   "codemirror_mode": {
    "name": "ipython",
    "version": 3
   },
   "file_extension": ".py",
   "mimetype": "text/x-python",
   "name": "python",
   "nbconvert_exporter": "python",
   "pygments_lexer": "ipython3",
   "version": "3.7.6"
  }
 },
 "nbformat": 4,
 "nbformat_minor": 2
}
