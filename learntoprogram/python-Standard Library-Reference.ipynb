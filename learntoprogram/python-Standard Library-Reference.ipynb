{
 "cells": [
  {
   "cell_type": "markdown",
   "metadata": {},
   "source": [
    "# Built-in Types\n",
    "## Text Sequence Type — str\n",
    "### printf-style String Formatting\n",
    "这里描述的格式化操作展示了导致许多常见错误（例如未能正确显示元组和字典）的各种怪癖，使用较新的格式化字符串文字、str.format（）接口或模板字符串可能有助于避免这些错误  \n",
    "每种替代方案都提供了它们自己的折衷方案和简单性、灵活性和/或可扩展性的好处  \n",
    "字符串对象有一个唯一的内置操作：%运算符（modulo）。这也被称为字符串格式化或插值运算符  \n",
    "给定格式%值（where format is a string），格式中的%转换规范将替换为零个或多个值元素  \n",
    "如果格式需要单个参数，则值可以是单个非元组对象。否则，值必须是一个元组，其项数正好由格式字符串指定，或者是一个映射对象（例如，字典） 5  \n",
    "转换说明符包含两个或多个字符，并且具有以下组件，这些组件必须按此顺序出现：\n",
    "1. The '%' character, which marks the start of the specifier.\n",
    "2. Mapping key (optional), 由带圆括号的字符序列组成 (for example, (somename)).\n",
    "3. Conversion flags (optional), which affect the result of some conversion types.\n",
    "4. 最小字段宽度 (optional). If specified as an '\\*' (asterisk), 则从值中元组的下一个元素读取实际宽度，并且要转换的对象位于最小字段宽度和可选精度之后\n",
    "5. 精度 (optional), given as a '.' (dot) followed by the precision. If specified as '\\*' (an asterisk), 则从值中元组的下一个元素读取实际精度，并且要转换的值在精度之后 5  \n",
    "6. Length modifier (optional).\n",
    "7. Conversion type.\n",
    "\n",
    "当右参数是字典（或其他映射类型）时，字符串中的格式必须在紧跟“%”字符后插入的字典中包含一个带圆括号的映射键。映射键从映射中选择要格式化的值。例如："
   ]
  },
  {
   "cell_type": "code",
   "execution_count": 2,
   "metadata": {},
   "outputs": [
    {
     "name": "stdout",
     "output_type": "stream",
     "text": [
      "Python has 002 quote types.\n"
     ]
    }
   ],
   "source": [
    "print('%(language)s has %(number)03d quote types.' %\n",
    "      {'language': \"Python\", \"number\": 2})"
   ]
  },
  {
   "cell_type": "markdown",
   "metadata": {},
   "source": [
    "在这种情况下，格式中不能出现\\*说明符（因为它们需要顺序参数列表） 5  \n",
    "转换标志字符为："
   ]
  },
  {
   "cell_type": "markdown",
   "metadata": {},
   "source": [
    "|Flag|Meaning|  \n",
    "|-|-|  \n",
    "|'#'|值转换将使用“替代形式”（定义见下文）|  "
   ]
  },
  {
   "cell_type": "markdown",
   "metadata": {},
   "source": [
    "A length modifier (h, l, or L) may be present, but is ignored as it is not necessary for Python – so e.g. %ld is identical to %d.  \n",
    "The conversion types are:"
   ]
  },
  {
   "cell_type": "markdown",
   "metadata": {},
   "source": [
    "|Conversion|Meaning|Notes|\n",
    "|-|-|-|\n",
    "|'d'|Signed integer decimal.||"
   ]
  }
 ],
 "metadata": {
  "kernelspec": {
   "display_name": "Python 3",
   "language": "python",
   "name": "python3"
  },
  "language_info": {
   "codemirror_mode": {
    "name": "ipython",
    "version": 3
   },
   "file_extension": ".py",
   "mimetype": "text/x-python",
   "name": "python",
   "nbconvert_exporter": "python",
   "pygments_lexer": "ipython3",
   "version": "3.7.6"
  }
 },
 "nbformat": 4,
 "nbformat_minor": 2
}
